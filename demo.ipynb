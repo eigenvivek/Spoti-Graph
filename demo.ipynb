{
  "cells": [
    {
      "cell_type": "code",
      "source": [
        "from pprint import pprint\n",
        "\n",
        "import spotipy\n",
        "from spotipy.oauth2 import SpotifyClientCredentials\n",
        "from credentials import CLIENT_ID, CLIENT_SECRET\n",
        "\n",
        "client_credentials_manager = SpotifyClientCredentials(CLIENT_ID, CLIENT_SECRET)\n",
        "spotify = spotipy.Spotify(client_credentials_manager=client_credentials_manager)"
      ],
      "outputs": [],
      "execution_count": 1,
      "metadata": {
        "collapsed": false,
        "outputHidden": false,
        "inputHidden": false
      }
    },
    {
      "cell_type": "code",
      "source": [
        "artist_name = 'Farruko'\n",
        "result = spotify.search(q='artist:' + artist_name, type='artist')\n",
        "uri = result['artists']['items'][0]['uri']"
      ],
      "outputs": [],
      "execution_count": 2,
      "metadata": {
        "collapsed": false,
        "outputHidden": false,
        "inputHidden": false
      }
    },
    {
      "cell_type": "code",
      "source": [
        "related = spotify.artist_related_artists(uri)"
      ],
      "outputs": [],
      "execution_count": 3,
      "metadata": {
        "collapsed": false,
        "outputHidden": false,
        "inputHidden": false
      }
    },
    {
      "cell_type": "code",
      "source": [
        "master = {}\n",
        "for artist in related['artists']:\n",
        "    master[artist['uri']] = {\n",
        "        'name': artist['name'], \n",
        "        'popularity': artist['popularity']\n",
        "    }\n",
        "\n",
        "pprint(master)"
      ],
      "outputs": [
        {
          "output_type": "stream",
          "name": "stdout",
          "text": [
            "{'spotify:artist:00me4Ke1LsvMxt5kydlMyU': {'name': 'Cosculluela',\n",
            "                                           'popularity': 79},\n",
            " 'spotify:artist:0eHQ9o50hj6ZDNBt6Ys1sD': {'name': 'Yandel', 'popularity': 81},\n",
            " 'spotify:artist:1K0lOPFlbPF3Volp5qIYNw': {'name': 'Jadiel', 'popularity': 54},\n",
            " 'spotify:artist:1SupJlEpv7RS2tPNRaHViT': {'name': 'Nicky Jam',\n",
            "                                           'popularity': 91},\n",
            " 'spotify:artist:1pgDilWYDWLoOgGjf1iHNu': {'name': 'Zion', 'popularity': 67},\n",
            " 'spotify:artist:21451j1KhjAiaYKflxBjr1': {'name': 'Zion & Lennox',\n",
            "                                           'popularity': 85},\n",
            " 'spotify:artist:2OHKEe204spO7G7NcbeO2o': {'name': 'Ñejo', 'popularity': 70},\n",
            " 'spotify:artist:2ydZrTy8U3kOMOzx20s3dg': {'name': 'DJ Nelson',\n",
            "                                           'popularity': 68},\n",
            " 'spotify:artist:3E6xrwgnVfYCrCs0ePERDz': {'name': 'Wisin', 'popularity': 82},\n",
            " 'spotify:artist:3EiLUeyEcA6fbRPSHkG5kb': {'name': 'De La Ghetto',\n",
            "                                           'popularity': 80},\n",
            " 'spotify:artist:3IEvQoAohcGX7CdrbtIle7': {'name': 'Baby Rasta & Gringo',\n",
            "                                           'popularity': 63},\n",
            " 'spotify:artist:3LKXWvXFWrkwUzJWxzwVpW': {'name': 'Tony Dize',\n",
            "                                           'popularity': 68},\n",
            " 'spotify:artist:3SUT1jjM5hzZj9TLfLZGIP': {'name': 'Tego Calderon',\n",
            "                                           'popularity': 69},\n",
            " 'spotify:artist:3YXpTiyVmYCfANOlnWv6vr': {'name': 'Trebol Clan',\n",
            "                                           'popularity': 64},\n",
            " 'spotify:artist:4Esb8jfP35nF3O85C0jgKC': {'name': 'Gadiel', 'popularity': 62},\n",
            " 'spotify:artist:4IMAo2UQchVFyPH24PAjUs': {'name': 'Jowell & Randy',\n",
            "                                           'popularity': 76},\n",
            " 'spotify:artist:4SsVbpTthjScTS7U2hmr1X': {'name': 'Arcangel',\n",
            "                                           'popularity': 81},\n",
            " 'spotify:artist:6XFITTl7cFTdopDY3lUdlY': {'name': 'J Alvarez',\n",
            "                                           'popularity': 72},\n",
            " 'spotify:artist:76whng5pl9msPkkjFUtWYn': {'name': 'Tempo', 'popularity': 58},\n",
            " 'spotify:artist:7tU1VKOuxiNZwBZC6RHidA': {'name': 'Alexis y Fido',\n",
            "                                           'popularity': 70}}\n"
          ]
        }
      ],
      "execution_count": 4,
      "metadata": {
        "collapsed": false,
        "outputHidden": false,
        "inputHidden": false
      }
    },
    {
      "cell_type": "code",
      "source": [],
      "outputs": [],
      "execution_count": 5,
      "metadata": {
        "collapsed": false,
        "outputHidden": false,
        "inputHidden": false
      }
    }
  ],
  "metadata": {
    "kernel_info": {
      "name": "spotify-net"
    },
    "language_info": {
      "name": "python",
      "version": "3.6.4",
      "mimetype": "text/x-python",
      "codemirror_mode": {
        "name": "ipython",
        "version": 3
      },
      "pygments_lexer": "ipython3",
      "nbconvert_exporter": "python",
      "file_extension": ".py"
    },
    "kernelspec": {
      "name": "spotify-net",
      "language": "python",
      "display_name": "spotify-net"
    },
    "nteract": {
      "version": "0.14.0"
    }
  },
  "nbformat": 4,
  "nbformat_minor": 0
}