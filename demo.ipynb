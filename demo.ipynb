{
  "cells": [
    {
      "cell_type": "code",
      "source": [
        "from pprint import pprint\n",
        "\n",
        "import spotipy\n",
        "from spotipy.oauth2 import SpotifyClientCredentials\n",
        "from credentials import CLIENT_ID, CLIENT_SECRET\n",
        "\n",
        "client_credentials_manager = SpotifyClientCredentials(CLIENT_ID, CLIENT_SECRET)\n",
        "spotify = spotipy.Spotify(client_credentials_manager=client_credentials_manager)"
      ],
      "outputs": [],
      "execution_count": 1,
      "metadata": {
        "collapsed": false,
        "outputHidden": false,
        "inputHidden": false
      }
    },
    {
      "cell_type": "code",
      "source": [
        "artist_name = 'The Beatles'\n",
        "result = spotify.search(q='artist:' + artist_name, type='artist')\n",
        "uri = result['artists']['items'][0]['uri']"
      ],
      "outputs": [],
      "execution_count": 2,
      "metadata": {
        "collapsed": false,
        "outputHidden": false,
        "inputHidden": false
      }
    },
    {
      "cell_type": "code",
      "source": [
        "related = spotify.artist_related_artists(uri)"
      ],
      "outputs": [],
      "execution_count": 3,
      "metadata": {
        "collapsed": false,
        "outputHidden": false,
        "inputHidden": false
      }
    },
    {
      "cell_type": "code",
      "source": [
        "master = {}\n",
        "for artist in related['artists']:\n",
        "    master[artist['uri']] = {\n",
        "        'name': artist['name'], \n",
        "        'popularity': artist['popularity']\n",
        "    }\n",
        "\n",
        "pprint(master)"
      ],
      "outputs": [
        {
          "output_type": "stream",
          "name": "stdout",
          "text": [
            "{'spotify:artist:0JDkhL4rjiPNEp92jAgJnS': {'name': 'Roy Orbison',\n",
            "                                           'popularity': 69},\n",
            " 'spotify:artist:1PCZpxHJz7WAMF8EEq8bfc': {'name': 'The Byrds',\n",
            "                                           'popularity': 63},\n",
            " 'spotify:artist:1SQRv42e4PjEYfPhS0Tk9E': {'name': 'The Kinks',\n",
            "                                           'popularity': 71},\n",
            " 'spotify:artist:22bE4uQ6baNwSHPVcDxLCe': {'name': 'The Rolling Stones',\n",
            "                                           'popularity': 82},\n",
            " 'spotify:artist:293zczrfYafIItmnmM3coR': {'name': 'Chuck Berry',\n",
            "                                           'popularity': 67},\n",
            " 'spotify:artist:3oDbviiivRWhXwIE8hxkVV': {'name': 'The Beach Boys',\n",
            "                                           'popularity': 75},\n",
            " 'spotify:artist:3sFhA6G1N0gG1pszb6kk1m': {'name': 'Wings', 'popularity': 65},\n",
            " 'spotify:artist:3wYyutjgII8LJVVOLrGI0D': {'name': 'Buddy Holly',\n",
            "                                           'popularity': 61},\n",
            " 'spotify:artist:43ZHCT0cAZBISjO8DG9PnE': {'name': 'Elvis Presley',\n",
            "                                           'popularity': 79},\n",
            " 'spotify:artist:4STHEaNw4mPZ2tzheohgXB': {'name': 'Paul McCartney',\n",
            "                                           'popularity': 75},\n",
            " 'spotify:artist:4pJCawaKSZ40EnxN0YEYw3': {'name': 'Badfinger',\n",
            "                                           'popularity': 56},\n",
            " 'spotify:artist:4x1nvY2FN8jxqAFA0DA02H': {'name': 'John Lennon',\n",
            "                                           'popularity': 71},\n",
            " 'spotify:artist:6DbJi8AcN5ANdtvJcwBSw8': {'name': 'Ringo Starr',\n",
            "                                           'popularity': 51},\n",
            " 'spotify:artist:6PAt558ZEZl0DmdXlnjMgD': {'name': 'Eric Clapton',\n",
            "                                           'popularity': 76},\n",
            " 'spotify:artist:6vLlQYujOujIrm7zAKzEdG': {'name': 'Donovan', 'popularity': 60},\n",
            " 'spotify:artist:6waa8mKu91GjzD4NlONlNJ': {'name': 'The Hollies',\n",
            "                                           'popularity': 65},\n",
            " 'spotify:artist:70cRZdQywnSFp9pnc2WTCE': {'name': 'Simon & Garfunkel',\n",
            "                                           'popularity': 75},\n",
            " 'spotify:artist:74ASZWbe4lXaubB36ztrGX': {'name': 'Bob Dylan',\n",
            "                                           'popularity': 76},\n",
            " 'spotify:artist:776Uo845nYHJpNaStv1Ds4': {'name': 'Jimi Hendrix',\n",
            "                                           'popularity': 75},\n",
            " 'spotify:artist:7FIoB5PHdrMZVC3q2HE5MS': {'name': 'George Harrison',\n",
            "                                           'popularity': 71}}\n"
          ]
        }
      ],
      "execution_count": 4,
      "metadata": {
        "collapsed": false,
        "outputHidden": false,
        "inputHidden": false
      }
    }
  ],
  "metadata": {
    "kernel_info": {
      "name": "spotify-net"
    },
    "language_info": {
      "name": "python",
      "version": "3.6.4",
      "mimetype": "text/x-python",
      "codemirror_mode": {
        "name": "ipython",
        "version": 3
      },
      "pygments_lexer": "ipython3",
      "nbconvert_exporter": "python",
      "file_extension": ".py"
    },
    "kernelspec": {
      "name": "spotify-net",
      "language": "python",
      "display_name": "spotify-net"
    },
    "nteract": {
      "version": "0.14.0"
    }
  },
  "nbformat": 4,
  "nbformat_minor": 0
}